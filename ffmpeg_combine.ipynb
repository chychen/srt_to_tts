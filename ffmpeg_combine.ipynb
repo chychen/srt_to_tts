{
 "cells": [
  {
   "cell_type": "code",
   "execution_count": null,
   "metadata": {},
   "outputs": [],
   "source": [
    "# https://support.google.com/youtube/answer/1722171?hl=en\n",
    "# apt update\n",
    "# apt install ffmpeg\n",
    "# pip install ffmpeg-python\n",
    "import ffmpeg\n",
    "import os"
   ]
  },
  {
   "cell_type": "code",
   "execution_count": null,
   "metadata": {},
   "outputs": [],
   "source": [
    "OUT_PATH = './videos'\n",
    "if not os.path.exists(OUT_PATH):\n",
    "    os.makedirs(OUT_PATH)\n",
    "\n",
    "# VIDEOS_IDX = [str(i) for i in range(1,6)]\n",
    "VIDEOS_IDX = [6]\n",
    "LANGUAGES =  ['kr', 'vn', 'th', 'en', 'zh', 'jp']"
   ]
  },
  {
   "cell_type": "code",
   "execution_count": null,
   "metadata": {},
   "outputs": [],
   "source": [
    "for video_idx in VIDEOS_IDX:\n",
    "    video = ffmpeg.input(f\"videos/video_{video_idx}.mp4\")\n",
    "    for language in LANGUAGES:\n",
    "        audio = ffmpeg.input(f\"audios/{language}_{video_idx}.mp3\")\n",
    "        ffmpeg.output(video.video, audio.audio, os.path.join(OUT_PATH, f'{language}_{video_idx}.mp4'), video_bitrate=6500000, audio_bitrate=100000).run()\n",
    "        print(f'{language}_{video_idx}.mp4 is done')"
   ]
  },
  {
   "cell_type": "code",
   "execution_count": null,
   "metadata": {},
   "outputs": [],
   "source": []
  }
 ],
 "metadata": {
  "kernelspec": {
   "display_name": "Python 3",
   "language": "python",
   "name": "python3"
  },
  "language_info": {
   "codemirror_mode": {
    "name": "ipython",
    "version": 3
   },
   "file_extension": ".py",
   "mimetype": "text/x-python",
   "name": "python",
   "nbconvert_exporter": "python",
   "pygments_lexer": "ipython3",
   "version": "3.6.9"
  }
 },
 "nbformat": 4,
 "nbformat_minor": 4
}
